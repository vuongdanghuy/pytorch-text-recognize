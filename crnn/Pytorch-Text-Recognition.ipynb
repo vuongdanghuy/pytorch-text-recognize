{
 "cells": [
  {
   "cell_type": "code",
   "execution_count": 1,
   "id": "vanilla-tablet",
   "metadata": {},
   "outputs": [],
   "source": [
    "import boto3\n",
    "import sagemaker"
   ]
  },
  {
   "cell_type": "code",
   "execution_count": 2,
   "id": "naked-budapest",
   "metadata": {},
   "outputs": [
    {
     "name": "stdout",
     "output_type": "stream",
     "text": [
      "1.17.39\n",
      "2.32.0\n"
     ]
    }
   ],
   "source": [
    "print(boto3.__version__)\n",
    "print(sagemaker.__version__)"
   ]
  },
  {
   "cell_type": "code",
   "execution_count": 3,
   "id": "radical-enemy",
   "metadata": {},
   "outputs": [
    {
     "name": "stdout",
     "output_type": "stream",
     "text": [
      "sagemaker-us-east-2-805291263703\n",
      "arn:aws:iam::805291263703:role/service-role/AmazonSageMaker-ExecutionRole-20200826T145400\n"
     ]
    }
   ],
   "source": [
    "sess = sagemaker.Session()\n",
    "bucket = sess.default_bucket()\n",
    "role = sagemaker.get_execution_role()\n",
    "print(bucket)\n",
    "print(role)"
   ]
  },
  {
   "cell_type": "code",
   "execution_count": 4,
   "id": "proud-convert",
   "metadata": {},
   "outputs": [],
   "source": [
    "prefix = 'pytorch-text-recognize'"
   ]
  },
  {
   "cell_type": "code",
   "execution_count": 47,
   "id": "collected-license",
   "metadata": {},
   "outputs": [
    {
     "name": "stdout",
     "output_type": "stream",
     "text": [
      "s3://sagemaker-us-east-2-805291263703/pytorch-text-recognize/model.tar.gz\n"
     ]
    }
   ],
   "source": [
    "model_path = sess.upload_data('model.tar.gz', bucket=bucket, key_prefix=prefix)\n",
    "print(model_path)"
   ]
  },
  {
   "cell_type": "markdown",
   "id": "sized-administrator",
   "metadata": {},
   "source": [
    "# Create model, endpoint configuration, endpoint"
   ]
  },
  {
   "cell_type": "code",
   "execution_count": 7,
   "id": "boring-dietary",
   "metadata": {},
   "outputs": [],
   "source": [
    "import time"
   ]
  },
  {
   "cell_type": "code",
   "execution_count": 9,
   "id": "bored-ability",
   "metadata": {},
   "outputs": [],
   "source": [
    "sm = boto3.client('sagemaker')"
   ]
  },
  {
   "cell_type": "code",
   "execution_count": 62,
   "id": "dental-kenya",
   "metadata": {},
   "outputs": [
    {
     "name": "stdout",
     "output_type": "stream",
     "text": [
      "pytorch-text-recognize-2021-03-31-08-00-55\n"
     ]
    }
   ],
   "source": [
    "model_name = prefix + '-' + time.strftime('%Y-%m-%d-%H-%M-%S', time.gmtime())\n",
    "print(model_name)"
   ]
  },
  {
   "cell_type": "code",
   "execution_count": 63,
   "id": "declared-colleague",
   "metadata": {},
   "outputs": [
    {
     "name": "stdout",
     "output_type": "stream",
     "text": [
      "{'ModelArn': 'arn:aws:sagemaker:us-east-2:805291263703:model/pytorch-text-recognize-2021-03-31-08-00-55', 'ResponseMetadata': {'RequestId': 'ee09b796-458d-4df2-a449-448920b7dbb9', 'HTTPStatusCode': 200, 'HTTPHeaders': {'x-amzn-requestid': 'ee09b796-458d-4df2-a449-448920b7dbb9', 'content-type': 'application/x-amz-json-1.1', 'content-length': '104', 'date': 'Wed, 31 Mar 2021 08:00:56 GMT'}, 'RetryAttempts': 0}}\n"
     ]
    }
   ],
   "source": [
    "response = sm.create_model(\n",
    "    ModelName = model_name,\n",
    "    ExecutionRoleArn = role,\n",
    "    Containers = [\n",
    "        {\n",
    "            'Image': '763104351884.dkr.ecr.us-east-2.amazonaws.com/pytorch-inference:1.6-cpu-py3',\n",
    "            'Mode': 'SingleModel',\n",
    "            'ModelDataUrl': 's3://{}/{}/model.tar.gz'.format(bucket, prefix),\n",
    "            'Environment': {\n",
    "                'SAGEMAKER_PROGRAM': 'inference.py',\n",
    "                'SAGEMAKER_SUBMIT_DIRECTORY': '/opt/ml/model/code',\n",
    "                'SAGEMAKER_CONTAINER_LOG_LEVEL': '20',\n",
    "                'SAGEMAKER_REGION': 'us-east-2',\n",
    "                'MMS_DEFAULT_RESPONSE_TIMEOUT': '500'\n",
    "            }\n",
    "        }\n",
    "    ]\n",
    ")\n",
    "print(response)"
   ]
  },
  {
   "cell_type": "code",
   "execution_count": 64,
   "id": "indirect-metro",
   "metadata": {},
   "outputs": [
    {
     "name": "stdout",
     "output_type": "stream",
     "text": [
      "pytorch-text-recognize-epc-2021-03-31-08-00-59\n"
     ]
    }
   ],
   "source": [
    "epc_name = prefix + '-epc-' + time.strftime('%Y-%m-%d-%H-%M-%S', time.gmtime())\n",
    "print(epc_name)"
   ]
  },
  {
   "cell_type": "code",
   "execution_count": 65,
   "id": "supreme-karaoke",
   "metadata": {},
   "outputs": [
    {
     "name": "stdout",
     "output_type": "stream",
     "text": [
      "{'EndpointConfigArn': 'arn:aws:sagemaker:us-east-2:805291263703:endpoint-config/pytorch-text-recognize-epc-2021-03-31-08-00-59', 'ResponseMetadata': {'RequestId': 'b158c8b6-98de-4626-8272-e2d641b6f763', 'HTTPStatusCode': 200, 'HTTPHeaders': {'x-amzn-requestid': 'b158c8b6-98de-4626-8272-e2d641b6f763', 'content-type': 'application/x-amz-json-1.1', 'content-length': '127', 'date': 'Wed, 31 Mar 2021 08:01:00 GMT'}, 'RetryAttempts': 0}}\n"
     ]
    }
   ],
   "source": [
    "response = sm.create_endpoint_config(\n",
    "    EndpointConfigName = epc_name,\n",
    "    ProductionVariants = [\n",
    "        {\n",
    "            'ModelName': model_name,\n",
    "            'VariantName': 'variant-1',\n",
    "            'InitialInstanceCount': 1,\n",
    "            'InstanceType': 'ml.m5.large',\n",
    "            'InitialVariantWeight': 1\n",
    "        }\n",
    "    ]\n",
    ")\n",
    "print(response)"
   ]
  },
  {
   "cell_type": "code",
   "execution_count": 66,
   "id": "returning-start",
   "metadata": {},
   "outputs": [
    {
     "name": "stdout",
     "output_type": "stream",
     "text": [
      "pytorch-text-recognize-ep-2021-03-31-08-01-02\n"
     ]
    }
   ],
   "source": [
    "ep_name = prefix + '-ep-' + time.strftime('%Y-%m-%d-%H-%M-%S', time.gmtime())\n",
    "print(ep_name)"
   ]
  },
  {
   "cell_type": "code",
   "execution_count": 67,
   "id": "patient-condition",
   "metadata": {},
   "outputs": [
    {
     "name": "stdout",
     "output_type": "stream",
     "text": [
      "{'EndpointArn': 'arn:aws:sagemaker:us-east-2:805291263703:endpoint/pytorch-text-recognize-ep-2021-03-31-08-01-02', 'ResponseMetadata': {'RequestId': '4aef11f0-cc38-4788-a3a1-db057f882164', 'HTTPStatusCode': 200, 'HTTPHeaders': {'x-amzn-requestid': '4aef11f0-cc38-4788-a3a1-db057f882164', 'content-type': 'application/x-amz-json-1.1', 'content-length': '113', 'date': 'Wed, 31 Mar 2021 08:01:03 GMT'}, 'RetryAttempts': 0}}\n"
     ]
    }
   ],
   "source": [
    "response = sm.create_endpoint(\n",
    "    EndpointName = ep_name,\n",
    "    EndpointConfigName = epc_name\n",
    ")\n",
    "print(response)"
   ]
  },
  {
   "cell_type": "code",
   "execution_count": 68,
   "id": "experimental-collaboration",
   "metadata": {},
   "outputs": [
    {
     "data": {
      "text/plain": [
       "{'EndpointName': 'pytorch-text-recognize-ep-2021-03-31-08-01-02',\n",
       " 'EndpointArn': 'arn:aws:sagemaker:us-east-2:805291263703:endpoint/pytorch-text-recognize-ep-2021-03-31-08-01-02',\n",
       " 'EndpointConfigName': 'pytorch-text-recognize-epc-2021-03-31-08-00-59',\n",
       " 'EndpointStatus': 'Creating',\n",
       " 'CreationTime': datetime.datetime(2021, 3, 31, 8, 1, 3, 571000, tzinfo=tzlocal()),\n",
       " 'LastModifiedTime': datetime.datetime(2021, 3, 31, 8, 1, 3, 571000, tzinfo=tzlocal()),\n",
       " 'ResponseMetadata': {'RequestId': '68f77b56-6cb1-447d-995f-fdbf96f97c15',\n",
       "  'HTTPStatusCode': 200,\n",
       "  'HTTPHeaders': {'x-amzn-requestid': '68f77b56-6cb1-447d-995f-fdbf96f97c15',\n",
       "   'content-type': 'application/x-amz-json-1.1',\n",
       "   'content-length': '342',\n",
       "   'date': 'Wed, 31 Mar 2021 08:01:05 GMT'},\n",
       "  'RetryAttempts': 0}}"
      ]
     },
     "execution_count": 68,
     "metadata": {},
     "output_type": "execute_result"
    }
   ],
   "source": [
    "sm.describe_endpoint(EndpointName=ep_name)"
   ]
  },
  {
   "cell_type": "code",
   "execution_count": 69,
   "id": "green-display",
   "metadata": {},
   "outputs": [],
   "source": [
    "waiter = sm.get_waiter('endpoint_in_service')\n",
    "waiter.wait(EndpointName=ep_name)"
   ]
  },
  {
   "cell_type": "markdown",
   "id": "constant-chase",
   "metadata": {},
   "source": [
    "# Inference"
   ]
  },
  {
   "cell_type": "code",
   "execution_count": 20,
   "id": "separated-burlington",
   "metadata": {},
   "outputs": [],
   "source": [
    "import cv2\n",
    "import os\n",
    "import numpy as np\n",
    "from io import BytesIO\n",
    "import torch\n",
    "from PIL import Image\n",
    "import matplotlib.pyplot as plt"
   ]
  },
  {
   "cell_type": "code",
   "execution_count": 25,
   "id": "engaging-basin",
   "metadata": {},
   "outputs": [],
   "source": [
    "smrt = boto3.client('sagemaker-runtime')"
   ]
  },
  {
   "cell_type": "code",
   "execution_count": 128,
   "id": "virgin-watts",
   "metadata": {},
   "outputs": [
    {
     "data": {
      "image/png": "[encoded data removed]",
      "text/plain": [
       "<Figure size 432x288 with 1 Axes>"
      ]
     },
     "metadata": {
      "needs_background": "light"
     },
     "output_type": "display_data"
    }
   ],
   "source": [
    "# im = cv2.imread('./word/6/572.jpg')\n",
    "im = cv2.imread('./134_2.png')\n",
    "im = cv2.cvtColor(im, cv2.COLOR_BGR2GRAY)\n",
    "plt.imshow(im, cmap='gray')\n",
    "plt.show()"
   ]
  },
  {
   "cell_type": "code",
   "execution_count": 129,
   "id": "disturbed-neighbor",
   "metadata": {},
   "outputs": [],
   "source": [
    "buffer = BytesIO()\n",
    "np.save(buffer, im)"
   ]
  },
  {
   "cell_type": "code",
   "execution_count": 130,
   "id": "short-drilling",
   "metadata": {},
   "outputs": [
    {
     "data": {
      "text/plain": [
       "b'[\"g-------r-i-s-b--e--r-g---\", \"grisberg\"]'"
      ]
     },
     "execution_count": 130,
     "metadata": {},
     "output_type": "execute_result"
    }
   ],
   "source": [
    "response = smrt.invoke_endpoint(\n",
    "        EndpointName=ep_name,\n",
    "        Body=buffer.getvalue(),\n",
    "        ContentType='application/x-npy'\n",
    "    )\n",
    "response['Body'].read()"
   ]
  },
  {
   "cell_type": "markdown",
   "id": "colonial-banking",
   "metadata": {},
   "source": [
    "# Delete endpoint, endpoint configuration and model"
   ]
  },
  {
   "cell_type": "code",
   "execution_count": 131,
   "id": "awful-argument",
   "metadata": {},
   "outputs": [
    {
     "data": {
      "text/plain": [
       "{'ResponseMetadata': {'RequestId': 'd1d2d74d-cbf0-4f79-9529-064b0544cccb',\n",
       "  'HTTPStatusCode': 200,\n",
       "  'HTTPHeaders': {'x-amzn-requestid': 'd1d2d74d-cbf0-4f79-9529-064b0544cccb',\n",
       "   'content-type': 'application/x-amz-json-1.1',\n",
       "   'content-length': '0',\n",
       "   'date': 'Wed, 31 Mar 2021 08:42:34 GMT'},\n",
       "  'RetryAttempts': 0}}"
      ]
     },
     "execution_count": 131,
     "metadata": {},
     "output_type": "execute_result"
    }
   ],
   "source": [
    "sm.delete_endpoint(EndpointName=ep_name)"
   ]
  },
  {
   "cell_type": "code",
   "execution_count": 132,
   "id": "bigger-apartment",
   "metadata": {},
   "outputs": [
    {
     "data": {
      "text/plain": [
       "{'ResponseMetadata': {'RequestId': '0c99d2c9-3b21-4ec5-b500-2d968f6b191d',\n",
       "  'HTTPStatusCode': 200,\n",
       "  'HTTPHeaders': {'x-amzn-requestid': '0c99d2c9-3b21-4ec5-b500-2d968f6b191d',\n",
       "   'content-type': 'application/x-amz-json-1.1',\n",
       "   'content-length': '0',\n",
       "   'date': 'Wed, 31 Mar 2021 08:42:36 GMT'},\n",
       "  'RetryAttempts': 0}}"
      ]
     },
     "execution_count": 132,
     "metadata": {},
     "output_type": "execute_result"
    }
   ],
   "source": [
    "sm.delete_endpoint_config(EndpointConfigName=epc_name)"
   ]
  },
  {
   "cell_type": "code",
   "execution_count": 133,
   "id": "understanding-cinema",
   "metadata": {},
   "outputs": [
    {
     "data": {
      "text/plain": [
       "{'ResponseMetadata': {'RequestId': '34c737fd-76a7-419e-aa35-40a854008185',\n",
       "  'HTTPStatusCode': 200,\n",
       "  'HTTPHeaders': {'x-amzn-requestid': '34c737fd-76a7-419e-aa35-40a854008185',\n",
       "   'content-type': 'application/x-amz-json-1.1',\n",
       "   'content-length': '0',\n",
       "   'date': 'Wed, 31 Mar 2021 08:42:38 GMT'},\n",
       "  'RetryAttempts': 0}}"
      ]
     },
     "execution_count": 133,
     "metadata": {},
     "output_type": "execute_result"
    }
   ],
   "source": [
    "sm.delete_model(ModelName=model_name)"
   ]
  },
  {
   "cell_type": "code",
   "execution_count": null,
   "id": "sustainable-citizenship",
   "metadata": {},
   "outputs": [],
   "source": []
  }
 ],
 "metadata": {
  "kernelspec": {
   "display_name": "conda_pytorch_p36",
   "language": "python",
   "name": "conda_pytorch_p36"
  },
  "language_info": {
   "codemirror_mode": {
    "name": "ipython",
    "version": 3
   },
   "file_extension": ".py",
   "mimetype": "text/x-python",
   "name": "python",
   "nbconvert_exporter": "python",
   "pygments_lexer": "ipython3",
   "version": "3.6.13"
  }
 },
 "nbformat": 4,
 "nbformat_minor": 5
}
